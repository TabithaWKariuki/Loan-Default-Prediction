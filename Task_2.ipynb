{
  "nbformat": 4,
  "nbformat_minor": 0,
  "metadata": {
    "colab": {
      "provenance": [],
      "collapsed_sections": [],
      "authorship_tag": "ABX9TyMmZEvFGf1nbvB2Dxtj4eVy",
      "include_colab_link": true
    },
    "kernelspec": {
      "name": "python3",
      "display_name": "Python 3"
    },
    "language_info": {
      "name": "python"
    }
  },
  "cells": [
    {
      "cell_type": "markdown",
      "metadata": {
        "id": "view-in-github",
        "colab_type": "text"
      },
      "source": [
        "<a href=\"https://colab.research.google.com/github/TabithaWKariuki/Loan-Default-Prediction/blob/main/Task_2.ipynb\" target=\"_parent\"><img src=\"https://colab.research.google.com/assets/colab-badge.svg\" alt=\"Open In Colab\"/></a>"
      ]
    },
    {
      "cell_type": "markdown",
      "source": [
        "## 1. Defining the Question"
      ],
      "metadata": {
        "id": "rwsFoSL4jnOk"
      }
    },
    {
      "cell_type": "markdown",
      "source": [
        "### a) Specifying the Data Analytic Question"
      ],
      "metadata": {
        "id": "XV1vqsG4jftK"
      }
    },
    {
      "cell_type": "markdown",
      "source": [
        " Use credit_risk_dataset_training.csv to train your model and\n",
        "credit_risk_dataset_test.csv to predict the missing value (‘loan_status’). Please\n",
        "document your steps and method used. Include the accuracy or evaluation metric used for\n",
        "calibrating your model"
      ],
      "metadata": {
        "id": "Vgb4kB2TjxU9"
      }
    },
    {
      "cell_type": "markdown",
      "source": [
        "### b) Defining the Metric for Success"
      ],
      "metadata": {
        "id": "cmHo7QO6kRl4"
      }
    },
    {
      "cell_type": "markdown",
      "source": [
        "1. Predict the outcome of a loan: is a customer likely to satisfy or default on the loan\n",
        "obligations?\n",
        "\n",
        "2. Document your steps and method used. Include the accuracy or evaluation metric used for\n",
        "calibrating your model\n"
      ],
      "metadata": {
        "id": "og1ue_yOkIq0"
      }
    },
    {
      "cell_type": "markdown",
      "source": [
        "### c) Understanding the context"
      ],
      "metadata": {
        "id": "nH-LZH2KkXxB"
      }
    },
    {
      "cell_type": "markdown",
      "source": [
        "Credit default risk is the risk\n",
        "that a lender takes the chance that a borrower fails to make required payments of the loan.\n",
        "The main purpose of this analysis is to predict whether a new customer can be a reliable\n",
        "customer. It's a way to avoid default and increase the bank’s revenue. This can be used to\n",
        "automate approving and declining loan applications more accurately. "
      ],
      "metadata": {
        "id": "XVW2PDOSkfH_"
      }
    },
    {
      "cell_type": "markdown",
      "source": [
        "### d) Recording the Experimental Design"
      ],
      "metadata": {
        "id": "zSiBSeS7m2PN"
      }
    },
    {
      "cell_type": "markdown",
      "source": [
        "1. Obtaining the dataset for our study.\n",
        "2. Importing all the necessary libraries for data analysis. \n",
        "3. Loading and viewing our data to better understand it.\n",
        "4. Data Modelling\n",
        "5. Model Evaluation with regards to accuracy levels\n",
        "6. Model improvement and tuning\n",
        "7. Deployment using streamlit\n",
        "8. Conclusion"
      ],
      "metadata": {
        "id": "lxK41fU6k7ei"
      }
    },
    {
      "cell_type": "markdown",
      "source": [
        "### e) Data Relevance"
      ],
      "metadata": {
        "id": "DgAfNkftm9Ch"
      }
    },
    {
      "cell_type": "markdown",
      "source": [
        "The dataset; credit_risk_dataset_training and credit_risk_dataset_test have the appropriate columns to answer the questions. They are relevant for modeling."
      ],
      "metadata": {
        "id": "vDJINmYmnIBX"
      }
    },
    {
      "cell_type": "markdown",
      "source": [
        "## 2. Reading the Data"
      ],
      "metadata": {
        "id": "Mtpu5d5UpK_0"
      }
    },
    {
      "cell_type": "code",
      "execution_count": null,
      "metadata": {
        "id": "AHe84m8dtZ8f"
      },
      "outputs": [],
      "source": [
        "#import Libaries for my Analysis\n",
        "import pandas as pd\n",
        "import numpy as np\n",
        "import matplotlib.pyplot as plt\n",
        "import seaborn as sns\n",
        "import warnings\n",
        "from imblearn.over_sampling import SMOTE\n",
        "from sklearn.preprocessing import RobustScaler, StandardScaler\n",
        "from sklearn.neighbors import KNeighborsClassifier\n",
        "from sklearn.model_selection import train_test_split, GridSearchCV\n",
        "from sklearn.discriminant_analysis import LinearDiscriminantAnalysis\n",
        "from sklearn.metrics import accuracy_score, confusion_matrix, classification_report, roc_auc_score\n",
        "\n",
        "# Set global parameters\n",
        "%matplotlib inline\n",
        "sns.set()\n",
        "plt.rcParams['figure.figsize'] = (10.0, 8.0)\n",
        "warnings.filterwarnings('ignore')"
      ]
    },
    {
      "cell_type": "code",
      "source": [
        "# Loading the cleaned train dataset from the Task 1 i.e. csv\n",
        "\n",
        "train = pd.read_csv('new_training_data.csv')"
      ],
      "metadata": {
        "id": "FBm-lVPtAndP"
      },
      "execution_count": null,
      "outputs": []
    },
    {
      "cell_type": "code",
      "source": [
        "# Loading the test dataset from the source i.e. csv\n",
        "\n",
        "testset = pd.read_csv('credit_risk_dataset_test.csv')"
      ],
      "metadata": {
        "id": "aVQc1iXYESuh"
      },
      "execution_count": null,
      "outputs": []
    },
    {
      "cell_type": "markdown",
      "source": [
        "## 3. Understanding the Data"
      ],
      "metadata": {
        "id": "H_Jzn7PjpOoE"
      }
    },
    {
      "cell_type": "code",
      "source": [
        "# Determining the no. of records in our dataset\n",
        "\n",
        "train.shape\n",
        "#the dataset, has 22765 columns and 13 entries(rows)"
      ],
      "metadata": {
        "colab": {
          "base_uri": "https://localhost:8080/"
        },
        "id": "XhLT8uDWCUtl",
        "outputId": "1ec02e83-8b37-4cbe-a280-cf31dd8edc6f"
      },
      "execution_count": null,
      "outputs": [
        {
          "output_type": "execute_result",
          "data": {
            "text/plain": [
              "(22765, 13)"
            ]
          },
          "metadata": {},
          "execution_count": 63
        }
      ]
    },
    {
      "cell_type": "code",
      "source": [
        "# Determining the no. of records in our dataset\n",
        "\n",
        "testset.shape\n",
        "#the dataset, has 9731 columns and 12 entries(rows)"
      ],
      "metadata": {
        "colab": {
          "base_uri": "https://localhost:8080/"
        },
        "id": "EzcWcWJuFB-Z",
        "outputId": "b321799c-4e96-4525-f439-3f98f368ea4c"
      },
      "execution_count": null,
      "outputs": [
        {
          "output_type": "execute_result",
          "data": {
            "text/plain": [
              "(9731, 12)"
            ]
          },
          "metadata": {},
          "execution_count": 64
        }
      ]
    },
    {
      "cell_type": "code",
      "source": [
        "# Previewing the top of our test dataset\n",
        "\n",
        "testset.head()"
      ],
      "metadata": {
        "colab": {
          "base_uri": "https://localhost:8080/",
          "height": 270
        },
        "id": "nmlRe_AEFOsf",
        "outputId": "d32d4753-0922-4da1-f00c-43cf6d94c470"
      },
      "execution_count": null,
      "outputs": [
        {
          "output_type": "execute_result",
          "data": {
            "text/plain": [
              "   person_age  person_income person_home_ownership  person_emp_length  \\\n",
              "0          25           9600              MORTGAGE                1.0   \n",
              "1          24          54400                  RENT                8.0   \n",
              "2          24          78956                  RENT                5.0   \n",
              "3          26         108160                  RENT                4.0   \n",
              "4          23          92111                  RENT                7.0   \n",
              "\n",
              "  loan_intent loan_grade  loan_amnt  loan_int_rate  loan_percent_income  \\\n",
              "0     MEDICAL          C       5500          12.87                 0.57   \n",
              "1     MEDICAL          C      35000          14.27                 0.55   \n",
              "2     MEDICAL          B      35000          11.11                 0.44   \n",
              "3   EDUCATION          E      35000          18.39                 0.32   \n",
              "4     MEDICAL          F      35000          20.25                 0.32   \n",
              "\n",
              "  cb_person_default_on_file  cb_person_cred_hist_length  loan_status  \n",
              "0                         N                           3          NaN  \n",
              "1                         Y                           4          NaN  \n",
              "2                         N                           4          NaN  \n",
              "3                         N                           4          NaN  \n",
              "4                         N                           4          NaN  "
            ],
            "text/html": [
              "\n",
              "  <div id=\"df-dc2fa10f-ec68-41a3-aebf-fc87482c6f5a\">\n",
              "    <div class=\"colab-df-container\">\n",
              "      <div>\n",
              "<style scoped>\n",
              "    .dataframe tbody tr th:only-of-type {\n",
              "        vertical-align: middle;\n",
              "    }\n",
              "\n",
              "    .dataframe tbody tr th {\n",
              "        vertical-align: top;\n",
              "    }\n",
              "\n",
              "    .dataframe thead th {\n",
              "        text-align: right;\n",
              "    }\n",
              "</style>\n",
              "<table border=\"1\" class=\"dataframe\">\n",
              "  <thead>\n",
              "    <tr style=\"text-align: right;\">\n",
              "      <th></th>\n",
              "      <th>person_age</th>\n",
              "      <th>person_income</th>\n",
              "      <th>person_home_ownership</th>\n",
              "      <th>person_emp_length</th>\n",
              "      <th>loan_intent</th>\n",
              "      <th>loan_grade</th>\n",
              "      <th>loan_amnt</th>\n",
              "      <th>loan_int_rate</th>\n",
              "      <th>loan_percent_income</th>\n",
              "      <th>cb_person_default_on_file</th>\n",
              "      <th>cb_person_cred_hist_length</th>\n",
              "      <th>loan_status</th>\n",
              "    </tr>\n",
              "  </thead>\n",
              "  <tbody>\n",
              "    <tr>\n",
              "      <th>0</th>\n",
              "      <td>25</td>\n",
              "      <td>9600</td>\n",
              "      <td>MORTGAGE</td>\n",
              "      <td>1.0</td>\n",
              "      <td>MEDICAL</td>\n",
              "      <td>C</td>\n",
              "      <td>5500</td>\n",
              "      <td>12.87</td>\n",
              "      <td>0.57</td>\n",
              "      <td>N</td>\n",
              "      <td>3</td>\n",
              "      <td>NaN</td>\n",
              "    </tr>\n",
              "    <tr>\n",
              "      <th>1</th>\n",
              "      <td>24</td>\n",
              "      <td>54400</td>\n",
              "      <td>RENT</td>\n",
              "      <td>8.0</td>\n",
              "      <td>MEDICAL</td>\n",
              "      <td>C</td>\n",
              "      <td>35000</td>\n",
              "      <td>14.27</td>\n",
              "      <td>0.55</td>\n",
              "      <td>Y</td>\n",
              "      <td>4</td>\n",
              "      <td>NaN</td>\n",
              "    </tr>\n",
              "    <tr>\n",
              "      <th>2</th>\n",
              "      <td>24</td>\n",
              "      <td>78956</td>\n",
              "      <td>RENT</td>\n",
              "      <td>5.0</td>\n",
              "      <td>MEDICAL</td>\n",
              "      <td>B</td>\n",
              "      <td>35000</td>\n",
              "      <td>11.11</td>\n",
              "      <td>0.44</td>\n",
              "      <td>N</td>\n",
              "      <td>4</td>\n",
              "      <td>NaN</td>\n",
              "    </tr>\n",
              "    <tr>\n",
              "      <th>3</th>\n",
              "      <td>26</td>\n",
              "      <td>108160</td>\n",
              "      <td>RENT</td>\n",
              "      <td>4.0</td>\n",
              "      <td>EDUCATION</td>\n",
              "      <td>E</td>\n",
              "      <td>35000</td>\n",
              "      <td>18.39</td>\n",
              "      <td>0.32</td>\n",
              "      <td>N</td>\n",
              "      <td>4</td>\n",
              "      <td>NaN</td>\n",
              "    </tr>\n",
              "    <tr>\n",
              "      <th>4</th>\n",
              "      <td>23</td>\n",
              "      <td>92111</td>\n",
              "      <td>RENT</td>\n",
              "      <td>7.0</td>\n",
              "      <td>MEDICAL</td>\n",
              "      <td>F</td>\n",
              "      <td>35000</td>\n",
              "      <td>20.25</td>\n",
              "      <td>0.32</td>\n",
              "      <td>N</td>\n",
              "      <td>4</td>\n",
              "      <td>NaN</td>\n",
              "    </tr>\n",
              "  </tbody>\n",
              "</table>\n",
              "</div>\n",
              "      <button class=\"colab-df-convert\" onclick=\"convertToInteractive('df-dc2fa10f-ec68-41a3-aebf-fc87482c6f5a')\"\n",
              "              title=\"Convert this dataframe to an interactive table.\"\n",
              "              style=\"display:none;\">\n",
              "        \n",
              "  <svg xmlns=\"http://www.w3.org/2000/svg\" height=\"24px\"viewBox=\"0 0 24 24\"\n",
              "       width=\"24px\">\n",
              "    <path d=\"M0 0h24v24H0V0z\" fill=\"none\"/>\n",
              "    <path d=\"M18.56 5.44l.94 2.06.94-2.06 2.06-.94-2.06-.94-.94-2.06-.94 2.06-2.06.94zm-11 1L8.5 8.5l.94-2.06 2.06-.94-2.06-.94L8.5 2.5l-.94 2.06-2.06.94zm10 10l.94 2.06.94-2.06 2.06-.94-2.06-.94-.94-2.06-.94 2.06-2.06.94z\"/><path d=\"M17.41 7.96l-1.37-1.37c-.4-.4-.92-.59-1.43-.59-.52 0-1.04.2-1.43.59L10.3 9.45l-7.72 7.72c-.78.78-.78 2.05 0 2.83L4 21.41c.39.39.9.59 1.41.59.51 0 1.02-.2 1.41-.59l7.78-7.78 2.81-2.81c.8-.78.8-2.07 0-2.86zM5.41 20L4 18.59l7.72-7.72 1.47 1.35L5.41 20z\"/>\n",
              "  </svg>\n",
              "      </button>\n",
              "      \n",
              "  <style>\n",
              "    .colab-df-container {\n",
              "      display:flex;\n",
              "      flex-wrap:wrap;\n",
              "      gap: 12px;\n",
              "    }\n",
              "\n",
              "    .colab-df-convert {\n",
              "      background-color: #E8F0FE;\n",
              "      border: none;\n",
              "      border-radius: 50%;\n",
              "      cursor: pointer;\n",
              "      display: none;\n",
              "      fill: #1967D2;\n",
              "      height: 32px;\n",
              "      padding: 0 0 0 0;\n",
              "      width: 32px;\n",
              "    }\n",
              "\n",
              "    .colab-df-convert:hover {\n",
              "      background-color: #E2EBFA;\n",
              "      box-shadow: 0px 1px 2px rgba(60, 64, 67, 0.3), 0px 1px 3px 1px rgba(60, 64, 67, 0.15);\n",
              "      fill: #174EA6;\n",
              "    }\n",
              "\n",
              "    [theme=dark] .colab-df-convert {\n",
              "      background-color: #3B4455;\n",
              "      fill: #D2E3FC;\n",
              "    }\n",
              "\n",
              "    [theme=dark] .colab-df-convert:hover {\n",
              "      background-color: #434B5C;\n",
              "      box-shadow: 0px 1px 3px 1px rgba(0, 0, 0, 0.15);\n",
              "      filter: drop-shadow(0px 1px 2px rgba(0, 0, 0, 0.3));\n",
              "      fill: #FFFFFF;\n",
              "    }\n",
              "  </style>\n",
              "\n",
              "      <script>\n",
              "        const buttonEl =\n",
              "          document.querySelector('#df-dc2fa10f-ec68-41a3-aebf-fc87482c6f5a button.colab-df-convert');\n",
              "        buttonEl.style.display =\n",
              "          google.colab.kernel.accessAllowed ? 'block' : 'none';\n",
              "\n",
              "        async function convertToInteractive(key) {\n",
              "          const element = document.querySelector('#df-dc2fa10f-ec68-41a3-aebf-fc87482c6f5a');\n",
              "          const dataTable =\n",
              "            await google.colab.kernel.invokeFunction('convertToInteractive',\n",
              "                                                     [key], {});\n",
              "          if (!dataTable) return;\n",
              "\n",
              "          const docLinkHtml = 'Like what you see? Visit the ' +\n",
              "            '<a target=\"_blank\" href=https://colab.research.google.com/notebooks/data_table.ipynb>data table notebook</a>'\n",
              "            + ' to learn more about interactive tables.';\n",
              "          element.innerHTML = '';\n",
              "          dataTable['output_type'] = 'display_data';\n",
              "          await google.colab.output.renderOutput(dataTable, element);\n",
              "          const docLink = document.createElement('div');\n",
              "          docLink.innerHTML = docLinkHtml;\n",
              "          element.appendChild(docLink);\n",
              "        }\n",
              "      </script>\n",
              "    </div>\n",
              "  </div>\n",
              "  "
            ]
          },
          "metadata": {},
          "execution_count": 65
        }
      ]
    },
    {
      "cell_type": "markdown",
      "source": [
        "#4. Modeling"
      ],
      "metadata": {
        "id": "cE2Xrp2mqUNF"
      }
    },
    {
      "cell_type": "markdown",
      "source": [
        "**K Nearest Neighbours**"
      ],
      "metadata": {
        "id": "51RGcxX6frjA"
      }
    },
    {
      "cell_type": "code",
      "source": [
        "train.columns"
      ],
      "metadata": {
        "colab": {
          "base_uri": "https://localhost:8080/"
        },
        "id": "EZTTkI9WEbGw",
        "outputId": "81932165-72db-4676-ba1f-aad9bbb4863b"
      },
      "execution_count": null,
      "outputs": [
        {
          "output_type": "execute_result",
          "data": {
            "text/plain": [
              "Index(['Unnamed: 0', 'person_age', 'person_income', 'person_home_ownership',\n",
              "       'person_emp_length', 'loan_intent', 'loan_grade', 'loan_amnt',\n",
              "       'loan_int_rate', 'loan_status', 'loan_percent_income',\n",
              "       'cb_person_default_on_file', 'cb_person_cred_hist_length'],\n",
              "      dtype='object')"
            ]
          },
          "metadata": {},
          "execution_count": 66
        }
      ]
    },
    {
      "cell_type": "code",
      "source": [
        "# Label encoder\n",
        "# We know that machine learning models take only numbers as inputs and can not process strings. \n",
        "# So, we have to deal with the categories present in the dataset and convert them into numbers.\n",
        "\n",
        "from sklearn.preprocessing import LabelEncoder\n",
        "enc=LabelEncoder()\n",
        "\n",
        "train['person_home_ownership']=enc.fit_transform(train['person_home_ownership'])\n",
        "train['person_emp_length']=enc.fit_transform(train['person_emp_length'])\n",
        "train['loan_intent']=enc.fit_transform(train['loan_intent'])\n",
        "train['loan_grade']=enc.fit_transform(train['loan_grade'])\n",
        "train['cb_person_default_on_file']=enc.fit_transform(train['cb_person_default_on_file'])"
      ],
      "metadata": {
        "id": "WIaJre_sLgyg"
      },
      "execution_count": null,
      "outputs": []
    },
    {
      "cell_type": "code",
      "source": [
        "# Defining the x and y variables\n",
        "\n",
        "X= train.drop(['loan_status'],axis=1).values\n",
        "y= train['loan_status'].values"
      ],
      "metadata": {
        "id": "A5Fq-hBKQlvf"
      },
      "execution_count": null,
      "outputs": []
    },
    {
      "cell_type": "code",
      "source": [
        "# Train Test Split\n",
        "# To avoid over-fitting, we will divide our dataset into training and test splits in the 80 20 split, \n",
        "# which gives us a better idea as to how our algorithm performed during the testing phase. \n",
        "# This way our algorithm is tested on un-seen data\n",
        "\n",
        "from sklearn.model_selection import train_test_split\n",
        "X_train, X_test, y_train, y_test = train_test_split(X, y, test_size=0.20)"
      ],
      "metadata": {
        "id": "l1Jwm7yDQ8do"
      },
      "execution_count": null,
      "outputs": []
    },
    {
      "cell_type": "code",
      "source": [
        "# Feature Scaling\n",
        "# Before making any actual predictions, it is always a good practice to scale the features \n",
        "# so that all of them can be uniformly evaluated.\n",
        "\n",
        "from sklearn.preprocessing import StandardScaler\n",
        "scaler = StandardScaler()\n",
        "scaler.fit(X_train)\n",
        "\n",
        "X_train = scaler.transform(X_train)\n",
        "X_test = scaler.transform(X_test)"
      ],
      "metadata": {
        "id": "2yq8-QzpRC5W"
      },
      "execution_count": null,
      "outputs": []
    },
    {
      "cell_type": "code",
      "source": [
        "# Training and Predictions\n",
        "# The first step is to import the KNeighborsClassifier class from the sklearn.neighbors library. \n",
        "# In the second line, this class is initialized with one parameter, i.e. n_neigbours. \n",
        "# This is basically the value for the K. There is no ideal value for K and it is selected after testing and evaluation, \n",
        "# however to start out, 5 seems to be the most commonly used value for KNN algorithm.\n",
        "\n",
        "from sklearn.neighbors import KNeighborsClassifier\n",
        "classifier = KNeighborsClassifier(n_neighbors=5)\n",
        "classifier.fit(X_train, y_train)"
      ],
      "metadata": {
        "colab": {
          "base_uri": "https://localhost:8080/"
        },
        "id": "tpzptszzRwSP",
        "outputId": "2e92c0c7-4851-4abd-a9e0-c8a96b43e777"
      },
      "execution_count": null,
      "outputs": [
        {
          "output_type": "execute_result",
          "data": {
            "text/plain": [
              "KNeighborsClassifier()"
            ]
          },
          "metadata": {},
          "execution_count": 71
        }
      ]
    },
    {
      "cell_type": "code",
      "source": [
        "# The final step is to make predictions on our test data\n",
        "\n",
        "y_pred = classifier.predict(X_test)"
      ],
      "metadata": {
        "id": "-_9r0ZfBSDN9"
      },
      "execution_count": null,
      "outputs": []
    },
    {
      "cell_type": "code",
      "source": [
        "# Evaluating the Algorithm\n",
        "# For evaluating an algorithm, confusion matrix, precision, recall and f1 score are the most commonly used metrics. \n",
        "# The confusion_matrix and classification_report methods of the sklearn.metrics can be used to calculate these metrics. \n",
        "\n",
        "from sklearn.metrics import classification_report, confusion_matrix\n",
        "print(confusion_matrix(y_test, y_pred))\n",
        "print(classification_report(y_test, y_pred))"
      ],
      "metadata": {
        "colab": {
          "base_uri": "https://localhost:8080/"
        },
        "id": "BaYhmVdDSRZb",
        "outputId": "22cfea96-fa3e-4214-a95f-b62d5159f1de"
      },
      "execution_count": null,
      "outputs": [
        {
          "output_type": "stream",
          "name": "stdout",
          "text": [
            "[[3396  177]\n",
            " [ 444  536]]\n",
            "              precision    recall  f1-score   support\n",
            "\n",
            "           0       0.88      0.95      0.92      3573\n",
            "           1       0.75      0.55      0.63       980\n",
            "\n",
            "    accuracy                           0.86      4553\n",
            "   macro avg       0.82      0.75      0.77      4553\n",
            "weighted avg       0.86      0.86      0.86      4553\n",
            "\n"
          ]
        }
      ]
    },
    {
      "cell_type": "code",
      "source": [
        "from sklearn.metrics import accuracy_score\n",
        "print(\"Accuracy score for 80 20 split is: \", accuracy_score(y_test, y_pred)*100)"
      ],
      "metadata": {
        "id": "kKGIimjpSXLm",
        "outputId": "628acf1e-2dd9-4928-d206-1eb835cd390f",
        "colab": {
          "base_uri": "https://localhost:8080/"
        }
      },
      "execution_count": null,
      "outputs": [
        {
          "output_type": "stream",
          "name": "stdout",
          "text": [
            "Accuracy score for 80 20 split is:  86.36064133538326\n"
          ]
        }
      ]
    },
    {
      "cell_type": "markdown",
      "source": [
        "**Our KNN model had an accuracy score of 86.3%**"
      ],
      "metadata": {
        "id": "-q_kutmnq3uc"
      }
    },
    {
      "cell_type": "markdown",
      "source": [
        "**Random Forest Classifier**"
      ],
      "metadata": {
        "id": "QN5iGktU178V"
      }
    },
    {
      "cell_type": "code",
      "source": [
        " # We will separate the dependent (Loan_Status) and the independent variables\n",
        "\n",
        "X = train[['person_age', 'person_income', 'person_home_ownership', 'person_emp_length', \n",
        "           'loan_intent', 'loan_grade', 'loan_amnt',\n",
        "           'loan_int_rate', 'loan_percent_income',\n",
        "           'cb_person_default_on_file', 'cb_person_cred_hist_length']]\n",
        "y = train.loan_status\n",
        "X.shape, y.shape"
      ],
      "metadata": {
        "colab": {
          "base_uri": "https://localhost:8080/"
        },
        "id": "9BDv1j1kq2y1",
        "outputId": "a2bad43f-d00e-4aeb-f38a-9dd35fc9f6b0"
      },
      "execution_count": null,
      "outputs": [
        {
          "output_type": "execute_result",
          "data": {
            "text/plain": [
              "((22765, 11), (22765,))"
            ]
          },
          "metadata": {},
          "execution_count": 75
        }
      ]
    },
    {
      "cell_type": "code",
      "source": [
        "# split our dataset into a training and validation set, \n",
        "# so that we can train the model on the training set and\n",
        "# evaluate its performance on the validation set\n",
        "\n",
        "from sklearn.model_selection import train_test_split\n",
        "x_train, x_cv, y_train, y_cv = train_test_split(X,y, test_size = 0.2, random_state = 10)"
      ],
      "metadata": {
        "id": "jXnNKaIlr4rb"
      },
      "execution_count": null,
      "outputs": []
    },
    {
      "cell_type": "code",
      "source": [
        "from sklearn.preprocessing import LabelEncoder\n",
        "enc=LabelEncoder()\n",
        "\n",
        "train['person_home_ownership']=enc.fit_transform(train['person_home_ownership'])"
      ],
      "metadata": {
        "id": "CUWybdaxE_HA"
      },
      "execution_count": null,
      "outputs": []
    },
    {
      "cell_type": "code",
      "source": [
        "train.head()"
      ],
      "metadata": {
        "colab": {
          "base_uri": "https://localhost:8080/",
          "height": 287
        },
        "id": "f07D4ZO9FCWU",
        "outputId": "0667469e-696b-4e12-8c72-0be41ad897ee"
      },
      "execution_count": null,
      "outputs": [
        {
          "output_type": "execute_result",
          "data": {
            "text/plain": [
              "   Unnamed: 0  person_age  person_income  person_home_ownership  \\\n",
              "0           0          22          59000                      3   \n",
              "1           1          21           9600                      2   \n",
              "2           2          23          65500                      3   \n",
              "3           3          21           9900                      2   \n",
              "4           4          26          77100                      3   \n",
              "\n",
              "   person_emp_length  loan_intent  loan_grade  loan_amnt  loan_int_rate  \\\n",
              "0                 35            4           3      35000          16.02   \n",
              "1                  5            1           1       1000          11.14   \n",
              "2                  4            3           2      35000          15.23   \n",
              "3                  2            5           0       2500           7.14   \n",
              "4                  8            1           1      35000          12.42   \n",
              "\n",
              "   loan_status  loan_percent_income  cb_person_default_on_file  \\\n",
              "0            1                 0.59                          1   \n",
              "1            0                 0.10                          0   \n",
              "2            1                 0.53                          0   \n",
              "3            1                 0.25                          0   \n",
              "4            1                 0.45                          0   \n",
              "\n",
              "   cb_person_cred_hist_length  \n",
              "0                           3  \n",
              "1                           2  \n",
              "2                           2  \n",
              "3                           2  \n",
              "4                           3  "
            ],
            "text/html": [
              "\n",
              "  <div id=\"df-370b9a8b-71c2-4f73-b8a4-3fbd4857a6f2\">\n",
              "    <div class=\"colab-df-container\">\n",
              "      <div>\n",
              "<style scoped>\n",
              "    .dataframe tbody tr th:only-of-type {\n",
              "        vertical-align: middle;\n",
              "    }\n",
              "\n",
              "    .dataframe tbody tr th {\n",
              "        vertical-align: top;\n",
              "    }\n",
              "\n",
              "    .dataframe thead th {\n",
              "        text-align: right;\n",
              "    }\n",
              "</style>\n",
              "<table border=\"1\" class=\"dataframe\">\n",
              "  <thead>\n",
              "    <tr style=\"text-align: right;\">\n",
              "      <th></th>\n",
              "      <th>Unnamed: 0</th>\n",
              "      <th>person_age</th>\n",
              "      <th>person_income</th>\n",
              "      <th>person_home_ownership</th>\n",
              "      <th>person_emp_length</th>\n",
              "      <th>loan_intent</th>\n",
              "      <th>loan_grade</th>\n",
              "      <th>loan_amnt</th>\n",
              "      <th>loan_int_rate</th>\n",
              "      <th>loan_status</th>\n",
              "      <th>loan_percent_income</th>\n",
              "      <th>cb_person_default_on_file</th>\n",
              "      <th>cb_person_cred_hist_length</th>\n",
              "    </tr>\n",
              "  </thead>\n",
              "  <tbody>\n",
              "    <tr>\n",
              "      <th>0</th>\n",
              "      <td>0</td>\n",
              "      <td>22</td>\n",
              "      <td>59000</td>\n",
              "      <td>3</td>\n",
              "      <td>35</td>\n",
              "      <td>4</td>\n",
              "      <td>3</td>\n",
              "      <td>35000</td>\n",
              "      <td>16.02</td>\n",
              "      <td>1</td>\n",
              "      <td>0.59</td>\n",
              "      <td>1</td>\n",
              "      <td>3</td>\n",
              "    </tr>\n",
              "    <tr>\n",
              "      <th>1</th>\n",
              "      <td>1</td>\n",
              "      <td>21</td>\n",
              "      <td>9600</td>\n",
              "      <td>2</td>\n",
              "      <td>5</td>\n",
              "      <td>1</td>\n",
              "      <td>1</td>\n",
              "      <td>1000</td>\n",
              "      <td>11.14</td>\n",
              "      <td>0</td>\n",
              "      <td>0.10</td>\n",
              "      <td>0</td>\n",
              "      <td>2</td>\n",
              "    </tr>\n",
              "    <tr>\n",
              "      <th>2</th>\n",
              "      <td>2</td>\n",
              "      <td>23</td>\n",
              "      <td>65500</td>\n",
              "      <td>3</td>\n",
              "      <td>4</td>\n",
              "      <td>3</td>\n",
              "      <td>2</td>\n",
              "      <td>35000</td>\n",
              "      <td>15.23</td>\n",
              "      <td>1</td>\n",
              "      <td>0.53</td>\n",
              "      <td>0</td>\n",
              "      <td>2</td>\n",
              "    </tr>\n",
              "    <tr>\n",
              "      <th>3</th>\n",
              "      <td>3</td>\n",
              "      <td>21</td>\n",
              "      <td>9900</td>\n",
              "      <td>2</td>\n",
              "      <td>2</td>\n",
              "      <td>5</td>\n",
              "      <td>0</td>\n",
              "      <td>2500</td>\n",
              "      <td>7.14</td>\n",
              "      <td>1</td>\n",
              "      <td>0.25</td>\n",
              "      <td>0</td>\n",
              "      <td>2</td>\n",
              "    </tr>\n",
              "    <tr>\n",
              "      <th>4</th>\n",
              "      <td>4</td>\n",
              "      <td>26</td>\n",
              "      <td>77100</td>\n",
              "      <td>3</td>\n",
              "      <td>8</td>\n",
              "      <td>1</td>\n",
              "      <td>1</td>\n",
              "      <td>35000</td>\n",
              "      <td>12.42</td>\n",
              "      <td>1</td>\n",
              "      <td>0.45</td>\n",
              "      <td>0</td>\n",
              "      <td>3</td>\n",
              "    </tr>\n",
              "  </tbody>\n",
              "</table>\n",
              "</div>\n",
              "      <button class=\"colab-df-convert\" onclick=\"convertToInteractive('df-370b9a8b-71c2-4f73-b8a4-3fbd4857a6f2')\"\n",
              "              title=\"Convert this dataframe to an interactive table.\"\n",
              "              style=\"display:none;\">\n",
              "        \n",
              "  <svg xmlns=\"http://www.w3.org/2000/svg\" height=\"24px\"viewBox=\"0 0 24 24\"\n",
              "       width=\"24px\">\n",
              "    <path d=\"M0 0h24v24H0V0z\" fill=\"none\"/>\n",
              "    <path d=\"M18.56 5.44l.94 2.06.94-2.06 2.06-.94-2.06-.94-.94-2.06-.94 2.06-2.06.94zm-11 1L8.5 8.5l.94-2.06 2.06-.94-2.06-.94L8.5 2.5l-.94 2.06-2.06.94zm10 10l.94 2.06.94-2.06 2.06-.94-2.06-.94-.94-2.06-.94 2.06-2.06.94z\"/><path d=\"M17.41 7.96l-1.37-1.37c-.4-.4-.92-.59-1.43-.59-.52 0-1.04.2-1.43.59L10.3 9.45l-7.72 7.72c-.78.78-.78 2.05 0 2.83L4 21.41c.39.39.9.59 1.41.59.51 0 1.02-.2 1.41-.59l7.78-7.78 2.81-2.81c.8-.78.8-2.07 0-2.86zM5.41 20L4 18.59l7.72-7.72 1.47 1.35L5.41 20z\"/>\n",
              "  </svg>\n",
              "      </button>\n",
              "      \n",
              "  <style>\n",
              "    .colab-df-container {\n",
              "      display:flex;\n",
              "      flex-wrap:wrap;\n",
              "      gap: 12px;\n",
              "    }\n",
              "\n",
              "    .colab-df-convert {\n",
              "      background-color: #E8F0FE;\n",
              "      border: none;\n",
              "      border-radius: 50%;\n",
              "      cursor: pointer;\n",
              "      display: none;\n",
              "      fill: #1967D2;\n",
              "      height: 32px;\n",
              "      padding: 0 0 0 0;\n",
              "      width: 32px;\n",
              "    }\n",
              "\n",
              "    .colab-df-convert:hover {\n",
              "      background-color: #E2EBFA;\n",
              "      box-shadow: 0px 1px 2px rgba(60, 64, 67, 0.3), 0px 1px 3px 1px rgba(60, 64, 67, 0.15);\n",
              "      fill: #174EA6;\n",
              "    }\n",
              "\n",
              "    [theme=dark] .colab-df-convert {\n",
              "      background-color: #3B4455;\n",
              "      fill: #D2E3FC;\n",
              "    }\n",
              "\n",
              "    [theme=dark] .colab-df-convert:hover {\n",
              "      background-color: #434B5C;\n",
              "      box-shadow: 0px 1px 3px 1px rgba(0, 0, 0, 0.15);\n",
              "      filter: drop-shadow(0px 1px 2px rgba(0, 0, 0, 0.3));\n",
              "      fill: #FFFFFF;\n",
              "    }\n",
              "  </style>\n",
              "\n",
              "      <script>\n",
              "        const buttonEl =\n",
              "          document.querySelector('#df-370b9a8b-71c2-4f73-b8a4-3fbd4857a6f2 button.colab-df-convert');\n",
              "        buttonEl.style.display =\n",
              "          google.colab.kernel.accessAllowed ? 'block' : 'none';\n",
              "\n",
              "        async function convertToInteractive(key) {\n",
              "          const element = document.querySelector('#df-370b9a8b-71c2-4f73-b8a4-3fbd4857a6f2');\n",
              "          const dataTable =\n",
              "            await google.colab.kernel.invokeFunction('convertToInteractive',\n",
              "                                                     [key], {});\n",
              "          if (!dataTable) return;\n",
              "\n",
              "          const docLinkHtml = 'Like what you see? Visit the ' +\n",
              "            '<a target=\"_blank\" href=https://colab.research.google.com/notebooks/data_table.ipynb>data table notebook</a>'\n",
              "            + ' to learn more about interactive tables.';\n",
              "          element.innerHTML = '';\n",
              "          dataTable['output_type'] = 'display_data';\n",
              "          await google.colab.output.renderOutput(dataTable, element);\n",
              "          const docLink = document.createElement('div');\n",
              "          docLink.innerHTML = docLinkHtml;\n",
              "          element.appendChild(docLink);\n",
              "        }\n",
              "      </script>\n",
              "    </div>\n",
              "  </div>\n",
              "  "
            ]
          },
          "metadata": {},
          "execution_count": 78
        }
      ]
    },
    {
      "cell_type": "code",
      "source": [
        "# Training the random forest model using the training set\n",
        "\n",
        "from sklearn.ensemble import RandomForestClassifier \n",
        "model = RandomForestClassifier(max_depth=4, random_state = 10) \n",
        "model.fit(x_train, y_train)"
      ],
      "metadata": {
        "colab": {
          "base_uri": "https://localhost:8080/"
        },
        "id": "PbYNVXIpr90V",
        "outputId": "f80ad966-5a71-4266-b107-db4e7377ee3c"
      },
      "execution_count": null,
      "outputs": [
        {
          "output_type": "execute_result",
          "data": {
            "text/plain": [
              "RandomForestClassifier(max_depth=4, random_state=10)"
            ]
          },
          "metadata": {},
          "execution_count": 79
        }
      ]
    },
    {
      "cell_type": "code",
      "source": [
        "# Checking the performance of training set\n",
        "\n",
        "from sklearn.metrics import accuracy_score\n",
        "pred_cv = model.predict(x_cv)\n",
        "accuracy_score(y_cv,pred_cv)"
      ],
      "metadata": {
        "colab": {
          "base_uri": "https://localhost:8080/"
        },
        "id": "as52GqJBsieY",
        "outputId": "f2e1eddb-fd36-4be3-87e2-5d5bee5924b3"
      },
      "execution_count": null,
      "outputs": [
        {
          "output_type": "execute_result",
          "data": {
            "text/plain": [
              "0.8980891719745223"
            ]
          },
          "metadata": {},
          "execution_count": 80
        }
      ]
    },
    {
      "cell_type": "markdown",
      "source": [
        "**The training set of the training data has an accuracy score of 89.8%.** "
      ],
      "metadata": {
        "id": "cXtJgmXpz4h_"
      }
    },
    {
      "cell_type": "code",
      "source": [
        "# Checking the performance of test set (0.2)\n",
        "\n",
        "pred_train = model.predict(x_train)\n",
        "accuracy_score(y_train,pred_train)"
      ],
      "metadata": {
        "colab": {
          "base_uri": "https://localhost:8080/"
        },
        "id": "dWJBAW4wssPm",
        "outputId": "fae07259-2be0-4b8e-b5bd-fd99502d785c"
      },
      "execution_count": null,
      "outputs": [
        {
          "output_type": "execute_result",
          "data": {
            "text/plain": [
              "0.9041840544695805"
            ]
          },
          "metadata": {},
          "execution_count": 81
        }
      ]
    },
    {
      "cell_type": "markdown",
      "source": [
        "**The validation set of our training data has a 90.4% accuracy score**"
      ],
      "metadata": {
        "id": "FZNe0pZU0UVJ"
      }
    },
    {
      "cell_type": "markdown",
      "source": [
        "# Passing our model in our test dataset"
      ],
      "metadata": {
        "id": "l2hgRwma00mJ"
      }
    },
    {
      "cell_type": "code",
      "source": [
        "# Assigning columns in the test set the variable column\n",
        "\n",
        "columns = list(testset.columns)"
      ],
      "metadata": {
        "id": "FGDnpGPrwnui"
      },
      "execution_count": null,
      "outputs": []
    },
    {
      "cell_type": "code",
      "source": [
        "# Checking null values\n",
        "# Models do not work well floats and null values\n",
        "\n",
        "testset.isnull().sum()"
      ],
      "metadata": {
        "colab": {
          "base_uri": "https://localhost:8080/"
        },
        "id": "LZxF6QOiy1s-",
        "outputId": "d4f58165-b971-4531-c13b-9de98e1e9a83"
      },
      "execution_count": null,
      "outputs": [
        {
          "output_type": "execute_result",
          "data": {
            "text/plain": [
              "person_age                       0\n",
              "person_income                    0\n",
              "person_home_ownership            0\n",
              "person_emp_length              282\n",
              "loan_intent                      0\n",
              "loan_grade                       0\n",
              "loan_amnt                        0\n",
              "loan_int_rate                  969\n",
              "loan_percent_income              0\n",
              "cb_person_default_on_file        0\n",
              "cb_person_cred_hist_length       0\n",
              "loan_status                   9731\n",
              "dtype: int64"
            ]
          },
          "metadata": {},
          "execution_count": 83
        }
      ]
    },
    {
      "cell_type": "code",
      "source": [
        "# Replacing null values with 0\n",
        "\n",
        "df1 = testset.fillna(0)\n",
        "df1.isnull().sum()"
      ],
      "metadata": {
        "colab": {
          "base_uri": "https://localhost:8080/"
        },
        "id": "h5UXT8wzzNnd",
        "outputId": "b3412d2e-1359-4fda-da89-6704bf6106b9"
      },
      "execution_count": null,
      "outputs": [
        {
          "output_type": "execute_result",
          "data": {
            "text/plain": [
              "person_age                    0\n",
              "person_income                 0\n",
              "person_home_ownership         0\n",
              "person_emp_length             0\n",
              "loan_intent                   0\n",
              "loan_grade                    0\n",
              "loan_amnt                     0\n",
              "loan_int_rate                 0\n",
              "loan_percent_income           0\n",
              "cb_person_default_on_file     0\n",
              "cb_person_cred_hist_length    0\n",
              "loan_status                   0\n",
              "dtype: int64"
            ]
          },
          "metadata": {},
          "execution_count": 84
        }
      ]
    },
    {
      "cell_type": "code",
      "source": [
        "# Lable Encoding\n",
        "# Changing categorical variables to numericals\n",
        "\n",
        "from sklearn.preprocessing import LabelEncoder\n",
        "enc=LabelEncoder()\n",
        "\n",
        "df1['person_home_ownership']=enc.fit_transform(df1['person_home_ownership'])\n",
        "df1['loan_intent']=enc.fit_transform(df1['loan_intent'])\n",
        "df1['cb_person_default_on_file']=enc.fit_transform(df1['cb_person_default_on_file'])\n",
        "df1['loan_grade']=enc.fit_transform(df1['loan_grade'])\n"
      ],
      "metadata": {
        "id": "IuOZJHusGTyF"
      },
      "execution_count": null,
      "outputs": []
    },
    {
      "cell_type": "code",
      "source": [
        "# Passing our model through the test set and previewing\n",
        "\n",
        "\n",
        "y_test_pred = model.predict(df1[columns[:11]])\n",
        "\n",
        "y_test_pred"
      ],
      "metadata": {
        "colab": {
          "base_uri": "https://localhost:8080/"
        },
        "id": "JQv5KdcapPxL",
        "outputId": "3cf2b238-fccf-48db-f29c-960da7c95422"
      },
      "execution_count": null,
      "outputs": [
        {
          "output_type": "execute_result",
          "data": {
            "text/plain": [
              "array([1, 1, 1, ..., 1, 0, 1])"
            ]
          },
          "metadata": {},
          "execution_count": 100
        }
      ]
    },
    {
      "cell_type": "code",
      "source": [
        "# Previewing our loan status to check whether the N/A\n",
        "# have been predicted\n",
        "\n",
        "df1['loan_status'] = model.predict(df1[columns[:11]])\n",
        "\n",
        "df1.head()"
      ],
      "metadata": {
        "colab": {
          "base_uri": "https://localhost:8080/",
          "height": 270
        },
        "id": "DumPsZklvN87",
        "outputId": "b40f1d39-37ab-42d5-e9e8-f981e9a165d1"
      },
      "execution_count": null,
      "outputs": [
        {
          "output_type": "execute_result",
          "data": {
            "text/plain": [
              "   person_age  person_income  person_home_ownership  person_emp_length  \\\n",
              "0          25           9600                      0                1.0   \n",
              "1          24          54400                      3                8.0   \n",
              "2          24          78956                      3                5.0   \n",
              "3          26         108160                      3                4.0   \n",
              "4          23          92111                      3                7.0   \n",
              "\n",
              "   loan_intent  loan_grade  loan_amnt  loan_int_rate  loan_percent_income  \\\n",
              "0            3           2       5500          12.87                 0.57   \n",
              "1            3           2      35000          14.27                 0.55   \n",
              "2            3           1      35000          11.11                 0.44   \n",
              "3            1           4      35000          18.39                 0.32   \n",
              "4            3           5      35000          20.25                 0.32   \n",
              "\n",
              "   cb_person_default_on_file  cb_person_cred_hist_length  loan_status  \n",
              "0                          0                           3            1  \n",
              "1                          1                           4            1  \n",
              "2                          0                           4            1  \n",
              "3                          0                           4            1  \n",
              "4                          0                           4            1  "
            ],
            "text/html": [
              "\n",
              "  <div id=\"df-b530ab5d-3d29-4bc2-a323-8ad1ee8b53c5\">\n",
              "    <div class=\"colab-df-container\">\n",
              "      <div>\n",
              "<style scoped>\n",
              "    .dataframe tbody tr th:only-of-type {\n",
              "        vertical-align: middle;\n",
              "    }\n",
              "\n",
              "    .dataframe tbody tr th {\n",
              "        vertical-align: top;\n",
              "    }\n",
              "\n",
              "    .dataframe thead th {\n",
              "        text-align: right;\n",
              "    }\n",
              "</style>\n",
              "<table border=\"1\" class=\"dataframe\">\n",
              "  <thead>\n",
              "    <tr style=\"text-align: right;\">\n",
              "      <th></th>\n",
              "      <th>person_age</th>\n",
              "      <th>person_income</th>\n",
              "      <th>person_home_ownership</th>\n",
              "      <th>person_emp_length</th>\n",
              "      <th>loan_intent</th>\n",
              "      <th>loan_grade</th>\n",
              "      <th>loan_amnt</th>\n",
              "      <th>loan_int_rate</th>\n",
              "      <th>loan_percent_income</th>\n",
              "      <th>cb_person_default_on_file</th>\n",
              "      <th>cb_person_cred_hist_length</th>\n",
              "      <th>loan_status</th>\n",
              "    </tr>\n",
              "  </thead>\n",
              "  <tbody>\n",
              "    <tr>\n",
              "      <th>0</th>\n",
              "      <td>25</td>\n",
              "      <td>9600</td>\n",
              "      <td>0</td>\n",
              "      <td>1.0</td>\n",
              "      <td>3</td>\n",
              "      <td>2</td>\n",
              "      <td>5500</td>\n",
              "      <td>12.87</td>\n",
              "      <td>0.57</td>\n",
              "      <td>0</td>\n",
              "      <td>3</td>\n",
              "      <td>1</td>\n",
              "    </tr>\n",
              "    <tr>\n",
              "      <th>1</th>\n",
              "      <td>24</td>\n",
              "      <td>54400</td>\n",
              "      <td>3</td>\n",
              "      <td>8.0</td>\n",
              "      <td>3</td>\n",
              "      <td>2</td>\n",
              "      <td>35000</td>\n",
              "      <td>14.27</td>\n",
              "      <td>0.55</td>\n",
              "      <td>1</td>\n",
              "      <td>4</td>\n",
              "      <td>1</td>\n",
              "    </tr>\n",
              "    <tr>\n",
              "      <th>2</th>\n",
              "      <td>24</td>\n",
              "      <td>78956</td>\n",
              "      <td>3</td>\n",
              "      <td>5.0</td>\n",
              "      <td>3</td>\n",
              "      <td>1</td>\n",
              "      <td>35000</td>\n",
              "      <td>11.11</td>\n",
              "      <td>0.44</td>\n",
              "      <td>0</td>\n",
              "      <td>4</td>\n",
              "      <td>1</td>\n",
              "    </tr>\n",
              "    <tr>\n",
              "      <th>3</th>\n",
              "      <td>26</td>\n",
              "      <td>108160</td>\n",
              "      <td>3</td>\n",
              "      <td>4.0</td>\n",
              "      <td>1</td>\n",
              "      <td>4</td>\n",
              "      <td>35000</td>\n",
              "      <td>18.39</td>\n",
              "      <td>0.32</td>\n",
              "      <td>0</td>\n",
              "      <td>4</td>\n",
              "      <td>1</td>\n",
              "    </tr>\n",
              "    <tr>\n",
              "      <th>4</th>\n",
              "      <td>23</td>\n",
              "      <td>92111</td>\n",
              "      <td>3</td>\n",
              "      <td>7.0</td>\n",
              "      <td>3</td>\n",
              "      <td>5</td>\n",
              "      <td>35000</td>\n",
              "      <td>20.25</td>\n",
              "      <td>0.32</td>\n",
              "      <td>0</td>\n",
              "      <td>4</td>\n",
              "      <td>1</td>\n",
              "    </tr>\n",
              "  </tbody>\n",
              "</table>\n",
              "</div>\n",
              "      <button class=\"colab-df-convert\" onclick=\"convertToInteractive('df-b530ab5d-3d29-4bc2-a323-8ad1ee8b53c5')\"\n",
              "              title=\"Convert this dataframe to an interactive table.\"\n",
              "              style=\"display:none;\">\n",
              "        \n",
              "  <svg xmlns=\"http://www.w3.org/2000/svg\" height=\"24px\"viewBox=\"0 0 24 24\"\n",
              "       width=\"24px\">\n",
              "    <path d=\"M0 0h24v24H0V0z\" fill=\"none\"/>\n",
              "    <path d=\"M18.56 5.44l.94 2.06.94-2.06 2.06-.94-2.06-.94-.94-2.06-.94 2.06-2.06.94zm-11 1L8.5 8.5l.94-2.06 2.06-.94-2.06-.94L8.5 2.5l-.94 2.06-2.06.94zm10 10l.94 2.06.94-2.06 2.06-.94-2.06-.94-.94-2.06-.94 2.06-2.06.94z\"/><path d=\"M17.41 7.96l-1.37-1.37c-.4-.4-.92-.59-1.43-.59-.52 0-1.04.2-1.43.59L10.3 9.45l-7.72 7.72c-.78.78-.78 2.05 0 2.83L4 21.41c.39.39.9.59 1.41.59.51 0 1.02-.2 1.41-.59l7.78-7.78 2.81-2.81c.8-.78.8-2.07 0-2.86zM5.41 20L4 18.59l7.72-7.72 1.47 1.35L5.41 20z\"/>\n",
              "  </svg>\n",
              "      </button>\n",
              "      \n",
              "  <style>\n",
              "    .colab-df-container {\n",
              "      display:flex;\n",
              "      flex-wrap:wrap;\n",
              "      gap: 12px;\n",
              "    }\n",
              "\n",
              "    .colab-df-convert {\n",
              "      background-color: #E8F0FE;\n",
              "      border: none;\n",
              "      border-radius: 50%;\n",
              "      cursor: pointer;\n",
              "      display: none;\n",
              "      fill: #1967D2;\n",
              "      height: 32px;\n",
              "      padding: 0 0 0 0;\n",
              "      width: 32px;\n",
              "    }\n",
              "\n",
              "    .colab-df-convert:hover {\n",
              "      background-color: #E2EBFA;\n",
              "      box-shadow: 0px 1px 2px rgba(60, 64, 67, 0.3), 0px 1px 3px 1px rgba(60, 64, 67, 0.15);\n",
              "      fill: #174EA6;\n",
              "    }\n",
              "\n",
              "    [theme=dark] .colab-df-convert {\n",
              "      background-color: #3B4455;\n",
              "      fill: #D2E3FC;\n",
              "    }\n",
              "\n",
              "    [theme=dark] .colab-df-convert:hover {\n",
              "      background-color: #434B5C;\n",
              "      box-shadow: 0px 1px 3px 1px rgba(0, 0, 0, 0.15);\n",
              "      filter: drop-shadow(0px 1px 2px rgba(0, 0, 0, 0.3));\n",
              "      fill: #FFFFFF;\n",
              "    }\n",
              "  </style>\n",
              "\n",
              "      <script>\n",
              "        const buttonEl =\n",
              "          document.querySelector('#df-b530ab5d-3d29-4bc2-a323-8ad1ee8b53c5 button.colab-df-convert');\n",
              "        buttonEl.style.display =\n",
              "          google.colab.kernel.accessAllowed ? 'block' : 'none';\n",
              "\n",
              "        async function convertToInteractive(key) {\n",
              "          const element = document.querySelector('#df-b530ab5d-3d29-4bc2-a323-8ad1ee8b53c5');\n",
              "          const dataTable =\n",
              "            await google.colab.kernel.invokeFunction('convertToInteractive',\n",
              "                                                     [key], {});\n",
              "          if (!dataTable) return;\n",
              "\n",
              "          const docLinkHtml = 'Like what you see? Visit the ' +\n",
              "            '<a target=\"_blank\" href=https://colab.research.google.com/notebooks/data_table.ipynb>data table notebook</a>'\n",
              "            + ' to learn more about interactive tables.';\n",
              "          element.innerHTML = '';\n",
              "          dataTable['output_type'] = 'display_data';\n",
              "          await google.colab.output.renderOutput(dataTable, element);\n",
              "          const docLink = document.createElement('div');\n",
              "          docLink.innerHTML = docLinkHtml;\n",
              "          element.appendChild(docLink);\n",
              "        }\n",
              "      </script>\n",
              "    </div>\n",
              "  </div>\n",
              "  "
            ]
          },
          "metadata": {},
          "execution_count": 101
        }
      ]
    },
    {
      "cell_type": "markdown",
      "source": [
        "# Deploying the Model"
      ],
      "metadata": {
        "id": "jfvOSJ9g2UtI"
      }
    },
    {
      "cell_type": "code",
      "source": [
        "# Saving the model\n",
        "\n",
        "import pickle \n",
        "pickle_out = open(\"classifier.pkl\", mode = \"wb\") \n",
        "pickle.dump(model, pickle_out) \n",
        "pickle_out.close()"
      ],
      "metadata": {
        "id": "NDm3DbyX2USI"
      },
      "execution_count": null,
      "outputs": []
    },
    {
      "cell_type": "code",
      "source": [
        "# pyngrok is a python wrapper for ngrok which helps to open secure tunnels from public URLs to localhost. \n",
        "# This will help us to host our web app.\n",
        "# Streamlit will be used to make our web app. \n",
        "\n",
        "\n",
        "!pip install -q pyngrok\n",
        "\n",
        "!pip install -q streamlit\n",
        "\n",
        "!pip install -q streamlit_ace"
      ],
      "metadata": {
        "colab": {
          "base_uri": "https://localhost:8080/"
        },
        "id": "ZE8_WIw-3YS1",
        "outputId": "9d3fa84a-3a37-499b-835b-ab4849166ff5"
      },
      "execution_count": null,
      "outputs": [
        {
          "output_type": "stream",
          "name": "stdout",
          "text": [
            "\u001b[?25l\r\u001b[K     |▍                               | 10 kB 20.0 MB/s eta 0:00:01\r\u001b[K     |▉                               | 20 kB 3.0 MB/s eta 0:00:01\r\u001b[K     |█▎                              | 30 kB 4.2 MB/s eta 0:00:01\r\u001b[K     |█▊                              | 40 kB 1.7 MB/s eta 0:00:01\r\u001b[K     |██▏                             | 51 kB 1.8 MB/s eta 0:00:01\r\u001b[K     |██▋                             | 61 kB 2.2 MB/s eta 0:00:01\r\u001b[K     |███                             | 71 kB 2.3 MB/s eta 0:00:01\r\u001b[K     |███▌                            | 81 kB 2.4 MB/s eta 0:00:01\r\u001b[K     |████                            | 92 kB 2.7 MB/s eta 0:00:01\r\u001b[K     |████▍                           | 102 kB 2.1 MB/s eta 0:00:01\r\u001b[K     |████▉                           | 112 kB 2.1 MB/s eta 0:00:01\r\u001b[K     |█████▎                          | 122 kB 2.1 MB/s eta 0:00:01\r\u001b[K     |█████▊                          | 133 kB 2.1 MB/s eta 0:00:01\r\u001b[K     |██████▏                         | 143 kB 2.1 MB/s eta 0:00:01\r\u001b[K     |██████▋                         | 153 kB 2.1 MB/s eta 0:00:01\r\u001b[K     |███████                         | 163 kB 2.1 MB/s eta 0:00:01\r\u001b[K     |███████▌                        | 174 kB 2.1 MB/s eta 0:00:01\r\u001b[K     |████████                        | 184 kB 2.1 MB/s eta 0:00:01\r\u001b[K     |████████▍                       | 194 kB 2.1 MB/s eta 0:00:01\r\u001b[K     |████████▉                       | 204 kB 2.1 MB/s eta 0:00:01\r\u001b[K     |█████████▎                      | 215 kB 2.1 MB/s eta 0:00:01\r\u001b[K     |█████████▊                      | 225 kB 2.1 MB/s eta 0:00:01\r\u001b[K     |██████████▏                     | 235 kB 2.1 MB/s eta 0:00:01\r\u001b[K     |██████████▌                     | 245 kB 2.1 MB/s eta 0:00:01\r\u001b[K     |███████████                     | 256 kB 2.1 MB/s eta 0:00:01\r\u001b[K     |███████████▍                    | 266 kB 2.1 MB/s eta 0:00:01\r\u001b[K     |███████████▉                    | 276 kB 2.1 MB/s eta 0:00:01\r\u001b[K     |████████████▎                   | 286 kB 2.1 MB/s eta 0:00:01\r\u001b[K     |████████████▊                   | 296 kB 2.1 MB/s eta 0:00:01\r\u001b[K     |█████████████▏                  | 307 kB 2.1 MB/s eta 0:00:01\r\u001b[K     |█████████████▋                  | 317 kB 2.1 MB/s eta 0:00:01\r\u001b[K     |██████████████                  | 327 kB 2.1 MB/s eta 0:00:01\r\u001b[K     |██████████████▌                 | 337 kB 2.1 MB/s eta 0:00:01\r\u001b[K     |███████████████                 | 348 kB 2.1 MB/s eta 0:00:01\r\u001b[K     |███████████████▍                | 358 kB 2.1 MB/s eta 0:00:01\r\u001b[K     |███████████████▉                | 368 kB 2.1 MB/s eta 0:00:01\r\u001b[K     |████████████████▎               | 378 kB 2.1 MB/s eta 0:00:01\r\u001b[K     |████████████████▊               | 389 kB 2.1 MB/s eta 0:00:01\r\u001b[K     |█████████████████▏              | 399 kB 2.1 MB/s eta 0:00:01\r\u001b[K     |█████████████████▋              | 409 kB 2.1 MB/s eta 0:00:01\r\u001b[K     |██████████████████              | 419 kB 2.1 MB/s eta 0:00:01\r\u001b[K     |██████████████████▌             | 430 kB 2.1 MB/s eta 0:00:01\r\u001b[K     |███████████████████             | 440 kB 2.1 MB/s eta 0:00:01\r\u001b[K     |███████████████████▍            | 450 kB 2.1 MB/s eta 0:00:01\r\u001b[K     |███████████████████▉            | 460 kB 2.1 MB/s eta 0:00:01\r\u001b[K     |████████████████████▎           | 471 kB 2.1 MB/s eta 0:00:01\r\u001b[K     |████████████████████▋           | 481 kB 2.1 MB/s eta 0:00:01\r\u001b[K     |█████████████████████           | 491 kB 2.1 MB/s eta 0:00:01\r\u001b[K     |█████████████████████▌          | 501 kB 2.1 MB/s eta 0:00:01\r\u001b[K     |██████████████████████          | 512 kB 2.1 MB/s eta 0:00:01\r\u001b[K     |██████████████████████▍         | 522 kB 2.1 MB/s eta 0:00:01\r\u001b[K     |██████████████████████▉         | 532 kB 2.1 MB/s eta 0:00:01\r\u001b[K     |███████████████████████▎        | 542 kB 2.1 MB/s eta 0:00:01\r\u001b[K     |███████████████████████▊        | 552 kB 2.1 MB/s eta 0:00:01\r\u001b[K     |████████████████████████▏       | 563 kB 2.1 MB/s eta 0:00:01\r\u001b[K     |████████████████████████▋       | 573 kB 2.1 MB/s eta 0:00:01\r\u001b[K     |█████████████████████████       | 583 kB 2.1 MB/s eta 0:00:01\r\u001b[K     |█████████████████████████▌      | 593 kB 2.1 MB/s eta 0:00:01\r\u001b[K     |██████████████████████████      | 604 kB 2.1 MB/s eta 0:00:01\r\u001b[K     |██████████████████████████▍     | 614 kB 2.1 MB/s eta 0:00:01\r\u001b[K     |██████████████████████████▉     | 624 kB 2.1 MB/s eta 0:00:01\r\u001b[K     |███████████████████████████▎    | 634 kB 2.1 MB/s eta 0:00:01\r\u001b[K     |███████████████████████████▊    | 645 kB 2.1 MB/s eta 0:00:01\r\u001b[K     |████████████████████████████▏   | 655 kB 2.1 MB/s eta 0:00:01\r\u001b[K     |████████████████████████████▋   | 665 kB 2.1 MB/s eta 0:00:01\r\u001b[K     |█████████████████████████████   | 675 kB 2.1 MB/s eta 0:00:01\r\u001b[K     |█████████████████████████████▌  | 686 kB 2.1 MB/s eta 0:00:01\r\u001b[K     |██████████████████████████████  | 696 kB 2.1 MB/s eta 0:00:01\r\u001b[K     |██████████████████████████████▍ | 706 kB 2.1 MB/s eta 0:00:01\r\u001b[K     |██████████████████████████████▊ | 716 kB 2.1 MB/s eta 0:00:01\r\u001b[K     |███████████████████████████████▏| 727 kB 2.1 MB/s eta 0:00:01\r\u001b[K     |███████████████████████████████▋| 737 kB 2.1 MB/s eta 0:00:01\r\u001b[K     |████████████████████████████████| 745 kB 2.1 MB/s \n",
            "\u001b[?25h  Building wheel for pyngrok (setup.py) ... \u001b[?25l\u001b[?25hdone\n",
            "\u001b[K     |████████████████████████████████| 9.1 MB 2.1 MB/s \n",
            "\u001b[K     |████████████████████████████████| 164 kB 46.9 MB/s \n",
            "\u001b[K     |████████████████████████████████| 181 kB 53.8 MB/s \n",
            "\u001b[K     |████████████████████████████████| 4.7 MB 40.1 MB/s \n",
            "\u001b[K     |████████████████████████████████| 78 kB 7.5 MB/s \n",
            "\u001b[K     |████████████████████████████████| 235 kB 60.2 MB/s \n",
            "\u001b[K     |████████████████████████████████| 63 kB 1.6 MB/s \n",
            "\u001b[K     |████████████████████████████████| 51 kB 6.4 MB/s \n",
            "\u001b[?25h  Building wheel for validators (setup.py) ... \u001b[?25l\u001b[?25hdone\n",
            "\u001b[K     |████████████████████████████████| 3.6 MB 2.2 MB/s \n",
            "\u001b[?25h"
          ]
        }
      ]
    },
    {
      "cell_type": "code",
      "source": [
        "# Saving the script as app.py\n",
        "\n",
        "%%writefile app.py\n",
        " \n",
        "# Importing the Libaries\n",
        "\n",
        "import pickle\n",
        "import streamlit as st\n",
        " \n",
        "# loading the trained model and saving it in the variable classifier\n",
        "\n",
        "pickle_in = open('classifier.pkl', 'rb') \n",
        "classifier = pickle.load(pickle_in)\n",
        " \n",
        "@st.cache()\n",
        "  \n",
        "# defining the function which will make the prediction using the data which the user inputs \n",
        "def prediction(person_home_ownership, loan_intent, cb_person_default_on_file):   \n",
        " \n",
        "    # Pre-processing user input  \n",
        "\n",
        "        if person_home_ownership == \"RENT\":\n",
        "        person_home_ownership = 0\n",
        "    else:\n",
        "        person_home_ownership = 1\n",
        " \n",
        "    if loan_intent == \"MEDICAL\":\n",
        "        loan_intent = 0\n",
        "    else:\n",
        "        loan_intent = 1  \n",
        "\n",
        "        if cb_person_default_on_file == \"YES\":\n",
        "        cb_person_default_on_file = 0\n",
        "    else:\n",
        "        cb_person_default_on_file = 1\n",
        "\n",
        "\n",
        "    # Making predictions \n",
        "    prediction = classifier.predict( \n",
        "        [[person_home_ownership, loan_intent, cb_person_default_on_file]])\n",
        "     \n",
        "    if prediction == 0:\n",
        "        pred = 'Rejected'\n",
        "    else:\n",
        "        pred = 'Approved'\n",
        "    return pred\n",
        "      \n",
        "  \n",
        "# this is the main function in which we define our webpage  \n",
        "def main():       \n",
        "    # front end elements of the web page \n",
        "    html_temp = \"\"\" \n",
        "    <div style =\"background-color:yellow;padding:13px\"> \n",
        "    <h1 style =\"color:black;text-align:center;\">Loan Approval App</h1> \n",
        "    </div> \n",
        "    \"\"\"\n",
        "      \n",
        "    # display the front end aspect\n",
        "    st.markdown(html_temp, unsafe_allow_html = True) \n",
        "      \n",
        "    # following lines create boxes in which user can enter data required to make prediction \n",
        "    HomeOwnership = st.selectbox('person_home_ownership',(\"RENT\",\"MORTGAGE\",\"OWN\", \"OTHER\"))\n",
        "    LoanIntent = st.selectbox('loan_intent',(\"MEDICAL\",\"VENTURE\", \"EDUCATION\", \"DEBTCONSOLIDATION\", \"PERSONAL\", \"HOMEIMPROVEMENT\")) \n",
        "    DefaultOnFile = st.selectbox('cb_person_default_on_file',(\"YES\",\"NO\"))\n",
        "    result =\"\"\n",
        "      \n",
        "    # when 'Predict' is clicked, make the prediction and store it \n",
        "    if st.button(\"Predict\"): \n",
        "        result = prediction(person_home_ownership, loan_intent, cb_person_default_on_file) \n",
        "        st.success('Your loan is {}'.format(result))\n",
        "        print(LoanAmount)\n",
        "     \n",
        "if __name__=='__main__': \n",
        "    main()"
      ],
      "metadata": {
        "colab": {
          "base_uri": "https://localhost:8080/"
        },
        "id": "HIFqxmw83sSN",
        "outputId": "808e9052-8b79-45c9-f63c-6fdbb236b002"
      },
      "execution_count": null,
      "outputs": [
        {
          "output_type": "stream",
          "name": "stdout",
          "text": [
            "Writing app.py\n"
          ]
        }
      ]
    },
    {
      "cell_type": "code",
      "source": [
        "!streamlit run app.py &>/dev/null&"
      ],
      "metadata": {
        "id": "g_CzUfdQ_Z9b"
      },
      "execution_count": null,
      "outputs": []
    },
    {
      "cell_type": "code",
      "source": [
        "from pyngrok import ngrok\n",
        " \n",
        "public_url = ngrok.connect('8501')\n",
        "public_url"
      ],
      "metadata": {
        "colab": {
          "base_uri": "https://localhost:8080/"
        },
        "id": "jkEoP7UO_ev2",
        "outputId": "5cfebc42-e81b-4eb6-fade-43a10ca16911"
      },
      "execution_count": null,
      "outputs": [
        {
          "output_type": "stream",
          "name": "stdout",
          "text": []
        },
        {
          "output_type": "execute_result",
          "data": {
            "text/plain": [
              "<NgrokTunnel: \"http://cafd-35-234-16-133.ngrok.io\" -> \"http://localhost:8501\">"
            ]
          },
          "metadata": {},
          "execution_count": 106
        }
      ]
    },
    {
      "cell_type": "markdown",
      "source": [
        "# Conclusions"
      ],
      "metadata": {
        "id": "lpPErtsKd1I9"
      }
    },
    {
      "cell_type": "markdown",
      "source": [
        "The best model for prediction is the Random Forest Classifier with an accuracy score of 90%."
      ],
      "metadata": {
        "id": "zgssiU_JeBsf"
      }
    },
    {
      "cell_type": "markdown",
      "source": [],
      "metadata": {
        "id": "tO2JASG8MEfE"
      }
    }
  ]
}